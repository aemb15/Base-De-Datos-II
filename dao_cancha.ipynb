{
 "cells": [
  {
   "cell_type": "code",
   "execution_count": 1,
   "metadata": {},
   "outputs": [
    {
     "name": "stdout",
     "output_type": "stream",
     "text": [
      "\n",
      "MongoClient(host=['ac-h1hdkwe-shard-00-02.o8imfl1.mongodb.net:27017', 'ac-h1hdkwe-shard-00-00.o8imfl1.mongodb.net:27017', 'ac-h1hdkwe-shard-00-01.o8imfl1.mongodb.net:27017'], document_class=dict, tz_aware=False, connect=True, retrywrites=True, w='majority', appname='BaseDeDatosll', authsource='admin', replicaset='atlas-fiqu9h-shard-0', tls=True, server_api=<pymongo.server_api.ServerApi object at 0x7c63b025dfa0>)\n",
      "\n",
      "Connecting to MongoDB\n",
      "Connection established\n",
      "Cargando configuracion de jugador\n",
      "Configuracion finalizada\n",
      "['/usr/lib/python312.zip', '/usr/lib/python3.12', '/usr/lib/python3.12/lib-dynload', '', '/home/andres/Escritorio/proyecto/venv/lib/python3.12/site-packages', '', '/db_models/', '/home/andres/Escritorio/proyecto', '/home/andres/Escritorio/proyecto/db_models/', '', '/db_models/', '', '/db_models/']\n",
      "Connecting to MongoDB\n",
      "Connection established\n",
      "Connecting to MongoDB\n",
      "Connection established\n",
      "Listo\n"
     ]
    }
   ],
   "source": [
    "from db_models.cancha import cancha\n",
    "from dao import turnoDAO\n",
    "print(\"Listo\")"
   ]
  },
  {
   "cell_type": "code",
   "execution_count": 8,
   "metadata": {},
   "outputs": [
    {
     "name": "stdout",
     "output_type": "stream",
     "text": [
      "Jugador insertado con ID: InsertOneResult(3, acknowledged=True)\n"
     ]
    }
   ],
   "source": [
    "#Agregar una cancha\n",
    "nueva_cancha_id = cancha.insertar_cancha(3,\"Bolivar\",\"sintetico\")\n",
    "print(f\"Jugador insertado con ID: {nueva_cancha_id}\")"
   ]
  },
  {
   "cell_type": "code",
   "execution_count": 3,
   "metadata": {},
   "outputs": [
    {
     "data": {
      "text/plain": [
       "{'_id': 1, 'nombre': 'Arcor', 'tipo_superficie': 'sintetico'}"
      ]
     },
     "execution_count": 3,
     "metadata": {},
     "output_type": "execute_result"
    }
   ],
   "source": [
    "#Consultar cancha por ID\n",
    "turno_dao = turnoDAO()\n",
    "turno_dao.get_cancha(1)"
   ]
  },
  {
   "cell_type": "code",
   "execution_count": 7,
   "metadata": {},
   "outputs": [
    {
     "name": "stdout",
     "output_type": "stream",
     "text": [
      "ID: 1, Nombre: Arcor, Tipo de Superficie: sintetico\n",
      "ID: 2, Nombre: Pasion, Tipo de Superficie: sintetico\n"
     ]
    }
   ],
   "source": [
    "#Consultar cancha por tipo superficie\n",
    "turno_dao = turnoDAO()\n",
    "turno_dao.get_cancha(tipo_superficie=\"sintetico\")\n"
   ]
  },
  {
   "cell_type": "code",
   "execution_count": 44,
   "metadata": {},
   "outputs": [
    {
     "data": {
      "text/plain": [
       "{'_id': 1, 'nombre': 'Arcor', 'tipo_superficie': 'sintetico'}"
      ]
     },
     "execution_count": 44,
     "metadata": {},
     "output_type": "execute_result"
    }
   ],
   "source": [
    "#Consultar por nombre\n",
    "turno_dao = turnoDAO()\n",
    "turno_dao.get_cancha(nombre=\"Arcor\")"
   ]
  },
  {
   "cell_type": "code",
   "execution_count": 9,
   "metadata": {},
   "outputs": [
    {
     "data": {
      "text/plain": [
       "[{'_id': 1, 'nombre': 'Arcor', 'tipo_superficie': 'sintetico'},\n",
       " {'_id': 2, 'nombre': 'Pasion', 'tipo_superficie': 'sintetico'},\n",
       " {'_id': 3, 'nombre': 'Bolivar', 'tipo_superficie': 'sintetico'}]"
      ]
     },
     "execution_count": 9,
     "metadata": {},
     "output_type": "execute_result"
    }
   ],
   "source": [
    "#Consultar todas las canchas\n",
    "turno_dao = turnoDAO()\n",
    "turno_dao.get_cancha()"
   ]
  },
  {
   "cell_type": "code",
   "execution_count": 3,
   "metadata": {},
   "outputs": [
    {
     "name": "stdout",
     "output_type": "stream",
     "text": [
      "Cancha modificada\n"
     ]
    },
    {
     "data": {
      "text/plain": [
       "{'_id': 3, 'nombre': 'Bolivar', 'tipo_superficie': 'tierra'}"
      ]
     },
     "execution_count": 3,
     "metadata": {},
     "output_type": "execute_result"
    }
   ],
   "source": [
    "#Modificar cancha\n",
    "turno_dao = turnoDAO()\n",
    "modificar_cancha = cancha.actualizar_cancha(3,tipo_superficie=\"tierra\")\n",
    "print(\"Cancha modificada\")\n",
    "turno_dao.get_cancha(3)"
   ]
  }
 ],
 "metadata": {
  "kernelspec": {
   "display_name": "venv",
   "language": "python",
   "name": "python3"
  },
  "language_info": {
   "codemirror_mode": {
    "name": "ipython",
    "version": 3
   },
   "file_extension": ".py",
   "mimetype": "text/x-python",
   "name": "python",
   "nbconvert_exporter": "python",
   "pygments_lexer": "ipython3",
   "version": "3.12.3"
  }
 },
 "nbformat": 4,
 "nbformat_minor": 2
}
