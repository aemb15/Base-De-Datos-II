{
 "cells": [
  {
   "cell_type": "code",
   "execution_count": 1,
   "metadata": {},
   "outputs": [
    {
     "name": "stdout",
     "output_type": "stream",
     "text": [
      "\n",
      "MongoClient(host=['ac-h1hdkwe-shard-00-00.o8imfl1.mongodb.net:27017', 'ac-h1hdkwe-shard-00-01.o8imfl1.mongodb.net:27017', 'ac-h1hdkwe-shard-00-02.o8imfl1.mongodb.net:27017'], document_class=dict, tz_aware=False, connect=True, retrywrites=True, w='majority', appname='BaseDeDatosll', authsource='admin', replicaset='atlas-fiqu9h-shard-0', tls=True, server_api=<pymongo.server_api.ServerApi object at 0x7c3a4033dc70>)\n",
      "\n",
      "Connecting to MongoDB\n",
      "Connection established\n",
      "Cargando configuracion de jugador\n",
      "Configuracion finalizada\n",
      "['/usr/lib/python312.zip', '/usr/lib/python3.12', '/usr/lib/python3.12/lib-dynload', '', '/home/andres/Escritorio/proyecto/venv/lib/python3.12/site-packages', '', '/db_models/', '/home/andres/Escritorio/proyecto', '/home/andres/Escritorio/proyecto/db_models/', '', '/db_models/', '', '/db_models/']\n",
      "Connecting to MongoDB\n",
      "Connection established\n",
      "Connecting to MongoDB\n",
      "Connection established\n",
      "Listo\n"
     ]
    }
   ],
   "source": [
    "from db_models.cancha import cancha\n",
    "from dao import turnoDAO\n",
    "print(\"Listo\")"
   ]
  },
  {
   "cell_type": "code",
   "execution_count": 4,
   "metadata": {},
   "outputs": [
    {
     "name": "stdout",
     "output_type": "stream",
     "text": [
      "Jugador insertado con ID: InsertOneResult(2, acknowledged=True)\n"
     ]
    }
   ],
   "source": [
    "#Agregar una cancha\n",
    "nueva_cancha_id = cancha.insertar_cancha(2,\"Pasion\",\"sintetico\")\n",
    "print(f\"Jugador insertado con ID: {nueva_cancha_id}\")"
   ]
  },
  {
   "cell_type": "code",
   "execution_count": 3,
   "metadata": {},
   "outputs": [
    {
     "data": {
      "text/plain": [
       "{'_id': 1, 'nombre': 'Arcor', 'tipo_superficie': 'sintetico'}"
      ]
     },
     "execution_count": 3,
     "metadata": {},
     "output_type": "execute_result"
    }
   ],
   "source": [
    "#Consultar cancha por ID\n",
    "turno_dao = turnoDAO()\n",
    "turno_dao.get_cancha(1)"
   ]
  },
  {
   "cell_type": "code",
   "execution_count": 38,
   "metadata": {},
   "outputs": [
    {
     "name": "stdout",
     "output_type": "stream",
     "text": [
      "None\n"
     ]
    },
    {
     "data": {
      "text/plain": [
       "[]"
      ]
     },
     "execution_count": 38,
     "metadata": {},
     "output_type": "execute_result"
    }
   ],
   "source": [
    "#Consultar cancha por tipo superficie\n",
    "turno_dao = turnoDAO()\n",
    "cancha_dato = turno_dao.get_cancha(\"sintetico\")\n",
    "#for cancha in cancha_dato:\n",
    "#    print(f\"ID: {cancha['_id']}, Nombre: {cancha['nombre']}, Tipo de Superficie: {cancha['tipo_superficie']}\")\n",
    "#cancha_dato = turno_dao.get_cancha(tipo_superficie=\"sintetico\")\n",
    "print(cancha_dato)\n",
    "turno_dao.get_cancha(tipo_superficie=\"sintetico\")\n"
   ]
  }
 ],
 "metadata": {
  "kernelspec": {
   "display_name": "venv",
   "language": "python",
   "name": "python3"
  },
  "language_info": {
   "codemirror_mode": {
    "name": "ipython",
    "version": 3
   },
   "file_extension": ".py",
   "mimetype": "text/x-python",
   "name": "python",
   "nbconvert_exporter": "python",
   "pygments_lexer": "ipython3",
   "version": "3.12.3"
  }
 },
 "nbformat": 4,
 "nbformat_minor": 2
}
