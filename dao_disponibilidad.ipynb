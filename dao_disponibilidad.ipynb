{
 "cells": [
  {
   "cell_type": "code",
   "execution_count": 1,
   "metadata": {},
   "outputs": [
    {
     "name": "stdout",
     "output_type": "stream",
     "text": [
      "\n",
      "MongoClient(host=['ac-h1hdkwe-shard-00-02.o8imfl1.mongodb.net:27017', 'ac-h1hdkwe-shard-00-00.o8imfl1.mongodb.net:27017', 'ac-h1hdkwe-shard-00-01.o8imfl1.mongodb.net:27017'], document_class=dict, tz_aware=False, connect=True, retrywrites=True, w='majority', appname='BaseDeDatosll', authsource='admin', replicaset='atlas-fiqu9h-shard-0', tls=True, server_api=<pymongo.server_api.ServerApi object at 0x7564c075ddf0>)\n",
      "\n",
      "Connecting to MongoDB\n",
      "Connection established\n",
      "Connecting to MongoDB\n",
      "Connection established\n",
      "Cargando configuracion de jugador\n",
      "Configuracion finalizada\n",
      "['/usr/lib/python312.zip', '/usr/lib/python3.12', '/usr/lib/python3.12/lib-dynload', '', '/home/andres/Escritorio/proyecto/venv/lib/python3.12/site-packages', '', '/db_models/', '', '/db_models/', '/home/andres/Escritorio/proyecto', '/home/andres/Escritorio/proyecto/db_models/', '', '/db_models/', '', '/db_models/']\n",
      "Connecting to MongoDB\n",
      "Connection established\n",
      "Connecting to MongoDB\n",
      "Connection established\n",
      "Listo\n"
     ]
    }
   ],
   "source": [
    "from db_models.disponibilidad import disponibilidad\n",
    "from dao import turnoDAO\n",
    "print(\"Listo\")"
   ]
  },
  {
   "cell_type": "code",
   "execution_count": 4,
   "metadata": {},
   "outputs": [
    {
     "name": "stdout",
     "output_type": "stream",
     "text": [
      "Disponibilidad insertado con ID: 5\n"
     ]
    }
   ],
   "source": [
    "#Agregar\n",
    "#disponibilidad.insertar_disponibilidad(1,2,\"2024-10-30\",\"16\",\"disponible\")\n",
    "nueva = disponibilidad.insertar_disponibilidad(5,2,\"2024-10-30\",\"19\",\"disponible\")\n",
    "print(f\"Disponibilidad insertado con ID: {nueva}\")"
   ]
  },
  {
   "cell_type": "code",
   "execution_count": 4,
   "metadata": {},
   "outputs": [
    {
     "data": {
      "text/plain": [
       "{'_id': 1,\n",
       " 'fecha': '2024-10-30',\n",
       " 'hora': '16',\n",
       " 'estadoCancha': 'disponible',\n",
       " 'nombre': 'Pasion',\n",
       " 'tipo_superficie': 'sintetico'}"
      ]
     },
     "execution_count": 4,
     "metadata": {},
     "output_type": "execute_result"
    }
   ],
   "source": [
    "#Consultar por hora\n",
    "turno_dao = turnoDAO()\n",
    "turno_dao.get_disponibilidad(hora=\"16\")"
   ]
  },
  {
   "cell_type": "code",
   "execution_count": 5,
   "metadata": {},
   "outputs": [
    {
     "data": {
      "text/plain": [
       "{'_id': 1,\n",
       " 'fecha': '2024-10-30',\n",
       " 'hora': '16',\n",
       " 'estadoCancha': 'disponible',\n",
       " 'nombre': 'Pasion',\n",
       " 'tipo_superficie': 'sintetico'}"
      ]
     },
     "execution_count": 5,
     "metadata": {},
     "output_type": "execute_result"
    }
   ],
   "source": [
    "#Consultar por estado\n",
    "turno_dao = turnoDAO()\n",
    "turno_dao.get_disponibilidad(estadoCancha=\"disponible\")"
   ]
  },
  {
   "cell_type": "code",
   "execution_count": 5,
   "metadata": {},
   "outputs": [
    {
     "data": {
      "text/plain": [
       "[{'_id': 1,\n",
       "  'fecha': '2024-10-30',\n",
       "  'hora': '16',\n",
       "  'estadoCancha': 'disponible',\n",
       "  'nombre': 'Pasion',\n",
       "  'tipo_superficie': 'sintetico'},\n",
       " {'_id': 2,\n",
       "  'fecha': '2024-10-30',\n",
       "  'hora': '21',\n",
       "  'estadoCancha': 'ocupado',\n",
       "  'nombre': 'Bolivar',\n",
       "  'tipo_superficie': 'tierra'},\n",
       " {'_id': 3,\n",
       "  'fecha': '2024-10-30',\n",
       "  'hora': '22',\n",
       "  'estadoCancha': 'ocupado',\n",
       "  'nombre': 'Arcor',\n",
       "  'tipo_superficie': 'sintetico'},\n",
       " {'_id': 4,\n",
       "  'fecha': '2024-10-30',\n",
       "  'hora': '17',\n",
       "  'estadoCancha': 'disponible',\n",
       "  'nombre': 'Bolivar',\n",
       "  'tipo_superficie': 'tierra'},\n",
       " {'_id': 5,\n",
       "  'fecha': '2024-10-30',\n",
       "  'hora': '19',\n",
       "  'estadoCancha': 'disponible',\n",
       "  'nombre': 'Pasion',\n",
       "  'tipo_superficie': 'sintetico'}]"
      ]
     },
     "execution_count": 5,
     "metadata": {},
     "output_type": "execute_result"
    }
   ],
   "source": [
    "#Consulta todos\n",
    "turno_dao = turnoDAO()\n",
    "turno_dao.get_disponibilidad()"
   ]
  },
  {
   "cell_type": "code",
   "execution_count": 3,
   "metadata": {},
   "outputs": [
    {
     "name": "stdout",
     "output_type": "stream",
     "text": [
      "Disponibilidad modificado\n"
     ]
    },
    {
     "data": {
      "text/plain": [
       "[{'_id': 1,\n",
       "  'fecha': '2024-10-30',\n",
       "  'hora': '16',\n",
       "  'estadoCancha': 'disponible',\n",
       "  'nombre': 'Pasion',\n",
       "  'tipo_superficie': 'sintetico'},\n",
       " {'_id': 2,\n",
       "  'fecha': '2024-10-30',\n",
       "  'hora': '21',\n",
       "  'estadoCancha': 'ocupado',\n",
       "  'nombre': 'Bolivar',\n",
       "  'tipo_superficie': 'tierra'}]"
      ]
     },
     "execution_count": 3,
     "metadata": {},
     "output_type": "execute_result"
    }
   ],
   "source": [
    "#Modificar disponibilidad\n",
    "turno_dao = turnoDAO()\n",
    "modificar_disponibilidad = disponibilidad.actualizar_disponibilidad(2,hora=\"21\")\n",
    "print(\"Disponibilidad modificado\")\n",
    "turno_dao.get_disponibilidad()"
   ]
  }
 ],
 "metadata": {
  "kernelspec": {
   "display_name": "venv",
   "language": "python",
   "name": "python3"
  },
  "language_info": {
   "codemirror_mode": {
    "name": "ipython",
    "version": 3
   },
   "file_extension": ".py",
   "mimetype": "text/x-python",
   "name": "python",
   "nbconvert_exporter": "python",
   "pygments_lexer": "ipython3",
   "version": "3.12.3"
  }
 },
 "nbformat": 4,
 "nbformat_minor": 2
}
