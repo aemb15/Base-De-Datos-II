{
 "cells": [
  {
   "cell_type": "code",
   "execution_count": 1,
   "metadata": {},
   "outputs": [
    {
     "name": "stdout",
     "output_type": "stream",
     "text": [
      "MongoClient(host=['ac-h1hdkwe-shard-00-01.o8imfl1.mongodb.net:27017', 'ac-h1hdkwe-shard-00-02.o8imfl1.mongodb.net:27017', 'ac-h1hdkwe-shard-00-00.o8imfl1.mongodb.net:27017'], document_class=dict, tz_aware=False, connect=True, retrywrites=True, w='majority', appname='BaseDeDatosll', authsource='admin', replicaset='atlas-fiqu9h-shard-0', tls=True, server_api=<pymongo.server_api.ServerApi object at 0x7a085eb461b0>)\n",
      "Cargando configuracion de jugador\n",
      "Configuracion finalizada\n",
      "['/usr/lib/python312.zip', '/usr/lib/python3.12', '/usr/lib/python3.12/lib-dynload', '', '/home/andres/Escritorio/proyecto/venv/lib/python3.12/site-packages', 'proyecto', '', '/db_models/', '', '/db_models/', '', '/db_models/']\n",
      "Connecting to MongoDB\n",
      "Connection established\n",
      "['/usr/lib/python312.zip', '/usr/lib/python3.12', '/usr/lib/python3.12/lib-dynload', '', '/home/andres/Escritorio/proyecto/venv/lib/python3.12/site-packages', 'proyecto', '', '/db_models/', '', '/db_models/', '', '/db_models/', '', '/db_models/']\n",
      "Connecting to MongoDB\n",
      "Connection established\n",
      "Connecting to MongoDB\n",
      "Connection established\n",
      "Listo\n"
     ]
    }
   ],
   "source": [
    "import sys\n",
    "sys.path.append(\"proyecto\")\n",
    "from db_models import jugador\n",
    "from dao import turnoDAO\n",
    "print(\"Listo\")"
   ]
  },
  {
   "cell_type": "code",
   "execution_count": 2,
   "metadata": {},
   "outputs": [
    {
     "ename": "AttributeError",
     "evalue": "module 'db_models.jugador' has no attribute 'insertar_jugador'",
     "output_type": "error",
     "traceback": [
      "\u001b[0;31m---------------------------------------------------------------------------\u001b[0m",
      "\u001b[0;31mAttributeError\u001b[0m                            Traceback (most recent call last)",
      "Cell \u001b[0;32mIn[2], line 2\u001b[0m\n\u001b[1;32m      1\u001b[0m turno_dao \u001b[38;5;241m=\u001b[39m turnoDAO()\n\u001b[0;32m----> 2\u001b[0m nuevo_jugador_id \u001b[38;5;241m=\u001b[39m \u001b[43mjugador\u001b[49m\u001b[38;5;241;43m.\u001b[39;49m\u001b[43minsertar_jugador\u001b[49m(nombre\u001b[38;5;241m=\u001b[39m\u001b[38;5;124m\"\u001b[39m\u001b[38;5;124mPedro\u001b[39m\u001b[38;5;124m\"\u001b[39m, telefono\u001b[38;5;241m=\u001b[39m\u001b[38;5;124m\"\u001b[39m\u001b[38;5;124m3825642977\u001b[39m\u001b[38;5;124m\"\u001b[39m)\n\u001b[1;32m      3\u001b[0m \u001b[38;5;28mprint\u001b[39m(\u001b[38;5;124mf\u001b[39m\u001b[38;5;124m\"\u001b[39m\u001b[38;5;124mJugador insertado con ID: \u001b[39m\u001b[38;5;132;01m{\u001b[39;00mnuevo_jugador_id\u001b[38;5;132;01m}\u001b[39;00m\u001b[38;5;124m\"\u001b[39m)\n",
      "\u001b[0;31mAttributeError\u001b[0m: module 'db_models.jugador' has no attribute 'insertar_jugador'"
     ]
    }
   ],
   "source": [
    "\n",
    "turno_dao = turnoDAO()\n",
    "nuevo_jugador_id = jugador.insertar_jugador()\n",
    "print(f\"Jugador insertado con ID: {nuevo_jugador_id}\")"
   ]
  }
 ],
 "metadata": {
  "kernelspec": {
   "display_name": "venv",
   "language": "python",
   "name": "python3"
  },
  "language_info": {
   "codemirror_mode": {
    "name": "ipython",
    "version": 3
   },
   "file_extension": ".py",
   "mimetype": "text/x-python",
   "name": "python",
   "nbconvert_exporter": "python",
   "pygments_lexer": "ipython3",
   "version": "3.12.3"
  }
 },
 "nbformat": 4,
 "nbformat_minor": 2
}
