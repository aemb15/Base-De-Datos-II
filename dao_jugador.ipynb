{
 "cells": [
  {
   "cell_type": "code",
   "execution_count": 1,
   "metadata": {},
   "outputs": [
    {
     "name": "stdout",
     "output_type": "stream",
     "text": [
      "\n",
      "MongoClient(host=['ac-h1hdkwe-shard-00-00.o8imfl1.mongodb.net:27017', 'ac-h1hdkwe-shard-00-02.o8imfl1.mongodb.net:27017', 'ac-h1hdkwe-shard-00-01.o8imfl1.mongodb.net:27017'], document_class=dict, tz_aware=False, connect=True, retrywrites=True, w='majority', appname='BaseDeDatosll', authsource='admin', replicaset='atlas-fiqu9h-shard-0', tls=True, server_api=<pymongo.server_api.ServerApi object at 0x75a8b3f6a000>)\n",
      "\n",
      "Cargando configuracion de jugador\n",
      "\n",
      "['cancha', 'reserva', 'pago', 'jugador']\n",
      "\n",
      "Collection(Database(MongoClient(host=['ac-h1hdkwe-shard-00-01.o8imfl1.mongodb.net:27017', 'ac-h1hdkwe-shard-00-00.o8imfl1.mongodb.net:27017', 'ac-h1hdkwe-shard-00-02.o8imfl1.mongodb.net:27017'], document_class=dict, tz_aware=False, connect=True, retrywrites=True, w='majority', appname='BaseDeDatosll', authsource='admin', replicaset='atlas-fiqu9h-shard-0', tls=True), 'Turno'), 'jugador')\n",
      "Configuracion finalizada\n",
      "['/usr/lib/python312.zip', '/usr/lib/python3.12', '/usr/lib/python3.12/lib-dynload', '', '/home/andres/Escritorio/proyecto/venv/lib/python3.12/site-packages', '', '/db_models/', '/home/andres/Escritorio/proyecto', '/home/andres/Escritorio/proyecto/db_models/', '', '/db_models/']\n",
      "Connecting to MongoDB\n",
      "Connection established\n",
      "['/usr/lib/python312.zip', '/usr/lib/python3.12', '/usr/lib/python3.12/lib-dynload', '', '/home/andres/Escritorio/proyecto/venv/lib/python3.12/site-packages', '', '/db_models/', '/home/andres/Escritorio/proyecto', '/home/andres/Escritorio/proyecto/db_models/', '', '/db_models/', '', '/db_models/']\n",
      "Connecting to MongoDB\n",
      "Connection established\n",
      "Connecting to MongoDB\n",
      "Connection established\n",
      "Listo\n"
     ]
    }
   ],
   "source": [
    "from db_models.jugador import jugador\n",
    "from dao import turnoDAO\n",
    "print(\"Listo\")"
   ]
  },
  {
   "cell_type": "code",
   "execution_count": 3,
   "metadata": {},
   "outputs": [
    {
     "name": "stdout",
     "output_type": "stream",
     "text": [
      "5\n",
      "Jugador insertado con ID: 5\n"
     ]
    }
   ],
   "source": [
    "#Agregar un jugador\n",
    "nuevo_jugador_id = jugador.insertar_jugador(6,\"Carlos\", \"3825649122\")\n",
    "print(f\"Jugador insertado con ID: {nuevo_jugador_id}\")"
   ]
  },
  {
   "cell_type": "code",
   "execution_count": 2,
   "metadata": {},
   "outputs": [
    {
     "data": {
      "text/plain": [
       "{'_id': 2, 'nombre': 'Juan', 'telefono': '3825699997'}"
      ]
     },
     "execution_count": 2,
     "metadata": {},
     "output_type": "execute_result"
    }
   ],
   "source": [
    "#Consultar jugador por ID\n",
    "turno_dao = turnoDAO()\n",
    "turno_dao.get_jugador(2)"
   ]
  },
  {
   "cell_type": "code",
   "execution_count": 20,
   "metadata": {},
   "outputs": [
    {
     "data": {
      "text/plain": [
       "{'_id': 5, 'nombre': 'Agustin', 'telefono': '3825381975'}"
      ]
     },
     "execution_count": 20,
     "metadata": {},
     "output_type": "execute_result"
    }
   ],
   "source": [
    "#Consultar jugador por nombre\n",
    "turno_dao = turnoDAO()\n",
    "turno_dao.get_jugador(nombre=\"Agustin\")"
   ]
  },
  {
   "cell_type": "code",
   "execution_count": 12,
   "metadata": {},
   "outputs": [
    {
     "data": {
      "text/plain": [
       "{'_id': 1, 'nombre': 'Pedro', 'telefono': '3825642977'}"
      ]
     },
     "execution_count": 12,
     "metadata": {},
     "output_type": "execute_result"
    }
   ],
   "source": [
    "#Consultar jugador por telefono\n",
    "turno_dao = turnoDAO()\n",
    "turno_dao.get_jugador(telefono=\"3825642977\")"
   ]
  },
  {
   "cell_type": "code",
   "execution_count": 31,
   "metadata": {},
   "outputs": [
    {
     "data": {
      "text/plain": [
       "[{'_id': 1, 'nombre': 'Pedro', 'telefono': '3825642977'},\n",
       " {'_id': 2, 'nombre': 'Juan', 'telefono': '3825699997'},\n",
       " {'_id': 3, 'nombre': 'Carlos P', 'telefono': '3825471697'},\n",
       " {'_id': 4, 'nombre': 'Juan Carlos', 'telefono': '3825149735'},\n",
       " {'_id': 5, 'nombre': 'Agustin', 'telefono': '3825381975'}]"
      ]
     },
     "execution_count": 31,
     "metadata": {},
     "output_type": "execute_result"
    }
   ],
   "source": [
    "#Consultar todos los jugadores\n",
    "turno_dao = turnoDAO()\n",
    "turno_dao.get_jugador()"
   ]
  },
  {
   "cell_type": "code",
   "execution_count": 32,
   "metadata": {},
   "outputs": [
    {
     "name": "stdout",
     "output_type": "stream",
     "text": [
      "Jugador modificado\n"
     ]
    },
    {
     "data": {
      "text/plain": [
       "{'_id': 3, 'nombre': 'Carlos', 'telefono': '3825471697'}"
      ]
     },
     "execution_count": 32,
     "metadata": {},
     "output_type": "execute_result"
    }
   ],
   "source": [
    "#Modificar jugador\n",
    "modificar_jugador = jugador.actualizar_jugador(3,nombre=\"Carlos\")\n",
    "print(\"Jugador modificado\")\n",
    "turno_dao.get_jugador(3)"
   ]
  }
 ],
 "metadata": {
  "kernelspec": {
   "display_name": "venv",
   "language": "python",
   "name": "python3"
  },
  "language_info": {
   "codemirror_mode": {
    "name": "ipython",
    "version": 3
   },
   "file_extension": ".py",
   "mimetype": "text/x-python",
   "name": "python",
   "nbconvert_exporter": "python",
   "pygments_lexer": "ipython3",
   "version": "3.12.3"
  }
 },
 "nbformat": 4,
 "nbformat_minor": 2
}
