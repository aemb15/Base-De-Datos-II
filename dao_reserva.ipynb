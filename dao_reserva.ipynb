{
 "cells": [
  {
   "cell_type": "code",
   "execution_count": 1,
   "metadata": {},
   "outputs": [
    {
     "name": "stdout",
     "output_type": "stream",
     "text": [
      "['/usr/lib/python312.zip', '/usr/lib/python3.12', '/usr/lib/python3.12/lib-dynload', '', '/home/andres/Escritorio/proyecto/venv/lib/python3.12/site-packages', '', '/db_models/']\n",
      "\n",
      "MongoClient(host=['ac-h1hdkwe-shard-00-02.o8imfl1.mongodb.net:27017', 'ac-h1hdkwe-shard-00-01.o8imfl1.mongodb.net:27017', 'ac-h1hdkwe-shard-00-00.o8imfl1.mongodb.net:27017'], document_class=dict, tz_aware=False, connect=True, retrywrites=True, w='majority', appname='BaseDeDatosll', authsource='admin', replicaset='atlas-fiqu9h-shard-0', tls=True, server_api=<pymongo.server_api.ServerApi object at 0x792dd00e22a0>)\n",
      "\n",
      "Connecting to MongoDB\n",
      "Connection established\n",
      "Connecting to MongoDB\n",
      "Connection established\n",
      "Cargando configuracion de jugador\n",
      "Configuracion finalizada\n",
      "Connecting to MongoDB\n",
      "Connection established\n",
      "Connecting to MongoDB\n",
      "Connection established\n",
      "Listo\n"
     ]
    }
   ],
   "source": [
    "from db_models.reserva import reserva\n",
    "from dao import turnoDAO\n",
    "print(\"Listo\")"
   ]
  },
  {
   "cell_type": "code",
   "execution_count": 4,
   "metadata": {},
   "outputs": [
    {
     "name": "stdout",
     "output_type": "stream",
     "text": [
      "Jugador insertado con ID: 3\n"
     ]
    }
   ],
   "source": [
    "#Agregar una reserva\n",
    "nueva_reserva_id = reserva.insertar_reserva(3,4,5,\"Confirmado\")\n",
    "print(f\"Jugador insertado con ID: {nueva_reserva_id}\")"
   ]
  },
  {
   "cell_type": "code",
   "execution_count": 3,
   "metadata": {},
   "outputs": [
    {
     "data": {
      "text/plain": [
       "{'_id': 1,\n",
       " 'nombreJugador': 'Juan',\n",
       " 'telefono': '3825699997',\n",
       " 'nombreCancha': 'Pasion',\n",
       " 'fecha': '2024-10-30',\n",
       " 'hora': '16',\n",
       " 'estadoPago': 'Pendiente'}"
      ]
     },
     "execution_count": 3,
     "metadata": {},
     "output_type": "execute_result"
    }
   ],
   "source": [
    "#Consultar una reserva por ID\n",
    "turno_dao = turnoDAO()\n",
    "turno_dao.get_reserva(1)"
   ]
  },
  {
   "cell_type": "code",
   "execution_count": 2,
   "metadata": {},
   "outputs": [
    {
     "name": "stdout",
     "output_type": "stream",
     "text": [
      "ID: 2, Nombre Jugador: Pedro,telefono: 3825642977,Nombre Cancha: Bolivar,hora: 17,estado de pago: Confirmado\n",
      "ID: 3, Nombre Jugador: Juan Carlos,telefono: 3825149735,Nombre Cancha: Pasion,hora: 19,estado de pago: Confirmado\n"
     ]
    }
   ],
   "source": [
    "#Consultar una reserva por estado de pago\n",
    "turno_dao = turnoDAO()\n",
    "turno_dao.get_reserva(estadoPago=\"Confirmado\")"
   ]
  },
  {
   "cell_type": "code",
   "execution_count": 3,
   "metadata": {},
   "outputs": [
    {
     "data": {
      "text/plain": [
       "[{'_id': 1,\n",
       "  'nombreJugador': 'Juan',\n",
       "  'telefono': '3825699997',\n",
       "  'nombreCancha': 'Pasion',\n",
       "  'fecha': '2024-10-30',\n",
       "  'hora': '16',\n",
       "  'estadoPago': 'Pendiente'},\n",
       " {'_id': 2,\n",
       "  'nombreJugador': 'Pedro',\n",
       "  'telefono': '3825642977',\n",
       "  'nombreCancha': 'Bolivar',\n",
       "  'fecha': '2024-10-30',\n",
       "  'hora': '17',\n",
       "  'estadoPago': 'Confirmado'},\n",
       " {'_id': 3,\n",
       "  'nombreJugador': 'Juan Carlos',\n",
       "  'telefono': '3825149735',\n",
       "  'nombreCancha': 'Pasion',\n",
       "  'fecha': '2024-10-30',\n",
       "  'hora': '19',\n",
       "  'estadoPago': 'Confirmado'}]"
      ]
     },
     "execution_count": 3,
     "metadata": {},
     "output_type": "execute_result"
    }
   ],
   "source": [
    "#Consultar las reservas\n",
    "turno_dao = turnoDAO()\n",
    "turno_dao.get_reserva()"
   ]
  },
  {
   "cell_type": "code",
   "execution_count": 2,
   "metadata": {},
   "outputs": [
    {
     "name": "stdout",
     "output_type": "stream",
     "text": [
      "Reserva modificado\n"
     ]
    },
    {
     "data": {
      "text/plain": [
       "[{'_id': 1,\n",
       "  'nombreJugador': 'Juan',\n",
       "  'telefono': '3825699997',\n",
       "  'nombreCancha': 'Pasion',\n",
       "  'fecha': '2024-10-30',\n",
       "  'hora': '16',\n",
       "  'estadoPago': 'Cancelado'},\n",
       " {'_id': 2,\n",
       "  'nombreJugador': 'Pedro',\n",
       "  'telefono': '3825642977',\n",
       "  'nombreCancha': 'Bolivar',\n",
       "  'fecha': '2024-10-30',\n",
       "  'hora': '17',\n",
       "  'estadoPago': 'Confirmado'},\n",
       " {'_id': 3,\n",
       "  'nombreJugador': 'Juan Carlos',\n",
       "  'telefono': '3825149735',\n",
       "  'nombreCancha': 'Pasion',\n",
       "  'fecha': '2024-10-30',\n",
       "  'hora': '19',\n",
       "  'estadoPago': 'Confirmado'}]"
      ]
     },
     "execution_count": 2,
     "metadata": {},
     "output_type": "execute_result"
    }
   ],
   "source": [
    "#Modificar reserva\n",
    "turno_dao = turnoDAO()\n",
    "modificar_reserva = reserva.actualizar_reserva(1,estadoPago=\"Cancelado\")\n",
    "print(\"Reserva modificado\")\n",
    "turno_dao.get_reserva()"
   ]
  }
 ],
 "metadata": {
  "kernelspec": {
   "display_name": "venv",
   "language": "python",
   "name": "python3"
  },
  "language_info": {
   "codemirror_mode": {
    "name": "ipython",
    "version": 3
   },
   "file_extension": ".py",
   "mimetype": "text/x-python",
   "name": "python",
   "nbconvert_exporter": "python",
   "pygments_lexer": "ipython3",
   "version": "3.12.3"
  }
 },
 "nbformat": 4,
 "nbformat_minor": 2
}
